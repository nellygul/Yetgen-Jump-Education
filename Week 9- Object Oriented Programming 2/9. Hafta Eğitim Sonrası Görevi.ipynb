{
 "cells": [
  {
   "attachments": {},
   "cell_type": "markdown",
   "metadata": {},
   "source": [
    "# Problem 1\n",
    "\n",
    "Kumanda isminde bir sınıf oluşturarak aşağıdaki işlemleri yapmasını sağlayan fonksiyonları sınıf içerisinde yazalım.\n",
    "1. Tv Aç\n",
    "2. Tv Kapat\n",
    "3. Ses Ayarları\n",
    "4. Kanal Ekle\n",
    "5. Kanal Sayısını Öğrenme\n",
    "6. Rastgele Kanala Geçme\n",
    "7. Televizyon Bilgileri\n",
    "\n",
    "\n",
    "Kumandayı kapatmak için q tuşuna basılmalı ve diğer durumlarda hangi işlemi yapmak istediği sorulmalıdır. Her işlemde gerekli fonksiyonunun sınıf içerisinden çağırılması gerekmektedir.\n",
    "\n",
    "random ve time kütüphanesini araştırarak kullanabilirsiniz.\n",
    "\n",
    "Kendi istediğiniz özellikleri eklemekte serbetsiniz."
   ]
  },
  {
   "cell_type": "code",
   "execution_count": null,
   "metadata": {},
   "outputs": [],
   "source": [
    "import random\n",
    "import time\n",
    "\n",
    "class Controller:\n",
    "    def __init__(self):\n",
    "        self.tv_on = False\n",
    "        self.channels = []\n",
    "        self.current_channel = None\n",
    "        self.volume = 50\n",
    "\n",
    "    def turn_on_tv(self):\n",
    "        if not self.tv_on:\n",
    "            print(\"Turning on the TV...\")\n",
    "            time.sleep(1)\n",
    "            self.tv_on = True\n",
    "            print(\"TV is on\")\n",
    "        else:\n",
    "            print(\"TV is already on\")\n",
    "\n",
    "    def turn_off_tv(self):\n",
    "        if self.tv_on:\n",
    "            print(\"Turning off the TV...\")\n",
    "            time.sleep(1)\n",
    "            self.tv_on = False\n",
    "            print(\"TV is off\")\n",
    "        else:\n",
    "            print(\"TV is already off\")\n",
    "\n",
    "    def set_sound_settings(self):\n",
    "        print(f\"Current volume: {self.volume}\")\n",
    "        while True:\n",
    "            action = input(\"Increase volume (+) or decrease volume (-)? (press q to exit) \")\n",
    "            if action == '+':\n",
    "                self.volume += 10\n",
    "                if self.volume > 100:\n",
    "                    self.volume = 100\n",
    "                print(f\"Volume increased to {self.volume}\")\n",
    "            elif action == '-':\n",
    "                self.volume -= 10\n",
    "                if self.volume < 0:\n",
    "                    self.volume = 0\n",
    "                print(f\"Volume decreased to {self.volume}\")\n",
    "            elif action == 'q':\n",
    "                break\n",
    "            else:\n",
    "                print(\"Invalid input\")\n",
    "\n",
    "   def run_controller(self):\n",
    "        while True:\n",
    "            action = input(\"Enter an action (1-7) or press q to exit: \")\n",
    "            if action == '1':\n",
    "                self.turn_on_tv()\n",
    "            elif action == '2':\n",
    "                self.turn_off_tv()\n",
    "            elif action == '3':\n",
    "                self.set_sound_settings()"
   ]
  }
 ],
 "metadata": {
  "kernelspec": {
   "display_name": "Python 3",
   "language": "python",
   "name": "python3"
  },
  "language_info": {
   "name": "python",
   "version": "3.10.5 (tags/v3.10.5:f377153, Jun  6 2022, 16:14:13) [MSC v.1929 64 bit (AMD64)]"
  },
  "orig_nbformat": 4,
  "vscode": {
   "interpreter": {
    "hash": "5026d2d6e7aaaaba093def813beadff083d8733e4a511af01735cbabd156995d"
   }
  }
 },
 "nbformat": 4,
 "nbformat_minor": 2
}
